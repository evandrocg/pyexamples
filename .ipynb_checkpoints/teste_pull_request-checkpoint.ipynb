{
 "cells": [
  {
   "cell_type": "code",
   "execution_count": 1,
   "id": "1ec8b2f1",
   "metadata": {},
   "outputs": [
    {
     "name": "stdout",
     "output_type": "stream",
     "text": [
      "Primeiro PR a gente nunca esquece\n"
     ]
    }
   ],
   "source": [
    "print(\"Primeiro PR a gente nunca esquece\")"
   ]
  },
  {
   "cell_type": "code",
   "execution_count": null,
   "id": "11aca5ba",
   "metadata": {},
   "outputs": [],
   "source": []
  }
 ],
 "metadata": {
  "kernelspec": {
   "display_name": "Python 3 (ipykernel)",
   "language": "python",
   "name": "python3"
  },
  "language_info": {
   "codemirror_mode": {
    "name": "ipython",
    "version": 3
   },
   "file_extension": ".py",
   "mimetype": "text/x-python",
   "name": "python",
   "nbconvert_exporter": "python",
   "pygments_lexer": "ipython3",
   "version": "3.9.13"
  }
 },
 "nbformat": 4,
 "nbformat_minor": 5
}
